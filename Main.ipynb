{
  "nbformat": 4,
  "nbformat_minor": 0,
  "metadata": {
    "colab": {
      "name": "Untitled0.ipynb",
      "provenance": [],
      "collapsed_sections": [],
      "toc_visible": true,
      "authorship_tag": "ABX9TyPJz28Bho0CPoCZ0ggDzBIq",
      "include_colab_link": true
    },
    "kernelspec": {
      "name": "python3",
      "display_name": "Python 3"
    },
    "language_info": {
      "name": "python"
    }
  },
  "cells": [
    {
      "cell_type": "markdown",
      "metadata": {
        "id": "view-in-github",
        "colab_type": "text"
      },
      "source": [
        "<a href=\"https://colab.research.google.com/github/GCardoso-lab/titanic-case/blob/main/Main.ipynb\" target=\"_parent\"><img src=\"https://colab.research.google.com/assets/colab-badge.svg\" alt=\"Open In Colab\"/></a>"
      ]
    },
    {
      "cell_type": "markdown",
      "metadata": {
        "id": "5cOKm5wtVF80"
      },
      "source": [
        "# Titanic Case"
      ]
    },
    {
      "cell_type": "markdown",
      "metadata": {
        "id": "I_at9CtAVM9r"
      },
      "source": [
        "## Business Understand"
      ]
    },
    {
      "cell_type": "markdown",
      "metadata": {
        "id": "n6P24ei-VT6D"
      },
      "source": [
        "* Create a preditive model to predict the chance of survival in the acident from the ship."
      ]
    },
    {
      "cell_type": "markdown",
      "metadata": {
        "id": "CKqFDeBoWLl9"
      },
      "source": [
        "### Data Understand"
      ]
    },
    {
      "cell_type": "markdown",
      "metadata": {
        "id": "hjflM6gxWauK"
      },
      "source": [
        "\n",
        "\n",
        "*   survival - 0-1 - Person survived?\n",
        "*   pclass - 1,2,3 - Class of ticket    ::  Most down = less chance?\n",
        "*   sex - M,F - Sex of passenger        ::  Males have priority in boats = more survive chance?\n",
        "*   sibsp - 1,2,3... - ??\n",
        "*   parch - 1,2,3... - Number of parents in ship :: Most parents together = less chance?\n",
        "*   ticket - 1,2,3,... - Number ticket\n",
        "*   fare - 1,2,3... - ??\n",
        "*   cabin - 1,2,3... - Cabin number\n",
        "*   embarked - C,Q,S - Port of embarkation\n"
      ]
    },
    {
      "cell_type": "code",
      "metadata": {
        "id": "uDsOlgvgZWsr"
      },
      "source": [
        "import pandas as pd\n",
        "import seaborn as sns"
      ],
      "execution_count": 1,
      "outputs": []
    },
    {
      "cell_type": "code",
      "metadata": {
        "id": "9GLpn1ZjZxMG"
      },
      "source": [
        ""
      ],
      "execution_count": null,
      "outputs": []
    }
  ]
}